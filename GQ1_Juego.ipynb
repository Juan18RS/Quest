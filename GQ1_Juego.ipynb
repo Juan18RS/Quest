{
  "nbformat": 4,
  "nbformat_minor": 0,
  "metadata": {
    "colab": {
      "provenance": []
    },
    "kernelspec": {
      "name": "python3",
      "display_name": "Python 3"
    },
    "language_info": {
      "name": "python"
    }
  },
  "cells": [
    {
      "cell_type": "markdown",
      "source": [
        "#Juego sobre cultura general\n",
        "##Kevin Martínez, Juan Acevedo, Juan Montoya, Juan Aguilar"
      ],
      "metadata": {
        "id": "G1xw_dQpY4Ar"
      }
    },
    {
      "cell_type": "code",
      "source": [
        "print(\"¡Bienvenido al mejor juego de cultura general!\")\n",
        "\n",
        "puntos = 0\n",
        "\n",
        "preguntas = [\n",
        "    (\"¿Cuál es el río más largo del mundo?\", \"A\", [\"A) Amazonas\", \"B) Nilo\", \"C) Yangtsé\", \"D) Misisipi\"]),\n",
        "    (\"¿Quién pintó la Mona Lisa?\", \"B\", [\"A) Van Gogh\", \"B) Leonardo da Vinci\", \"C) Picasso\", \"D) Rembrandt\"]),\n",
        "    (\"¿Cuál es el planeta más grande del sistema solar?\", \"C\", [\"A) Tierra\", \"B) Marte\", \"C) Júpiter\", \"D) Saturno\"]),\n",
        "    (\"¿En qué año llegó el hombre a la luna?\", \"B\", [\"A) 1960\", \"B) 1969\", \"C) 1972\", \"D) 1958\"]),\n",
        "    (\"¿Cuál es el país más grande del mundo?\", \"A\", [\"A) Rusia\", \"B) Canadá\", \"C) China\", \"D) Estados Unidos\"]),\n",
        "    (\"¿Cuál es la capital de Australia?\", \"D\", [\"A) Sídney\", \"B) Melbourne\", \"C) Brisbane\", \"D) Canberra\"]),\n",
        "    (\"¿Quién escribió 'Cien años de soledad'?\", \"C\", [\"A) Pablo Neruda\", \"B) Mario Vargas Llosa\", \"C) Gabriel García Márquez\", \"D) Jorge Luis Borges\"]),\n",
        "    (\"¿Cuál es el océano más grande del mundo?\", \"A\", [\"A) Pacífico\", \"B) Atlántico\", \"C) Índico\", \"D) Ártico\"]),\n",
        "    (\"¿Qué país ganó el Mundial de Fútbol en 2018?\", \"B\", [\"A) Brasil\", \"B) Francia\", \"C) Alemania\", \"D) Argentina\"]),\n",
        "    (\"¿Quién fue el primer presidente de los Estados Unidos?\", \"C\", [\"A) Abraham Lincoln\", \"B) John Adams\", \"C) George Washington\", \"D) Thomas Jefferson\"])\n",
        "]\n",
        "\n",
        "\n",
        "nombre=input(\"¡Bienvenido al juego de cultura general! ¿Cuál es tu nombre? \")\n",
        "print(f\"\\n¡Hola {nombre}! Empecemos con el juego.\\n\")\n",
        "\n",
        "for i, (pregunta, respuesta_correcta, opciones) in enumerate(preguntas, 1):\n",
        "    print(f\"Pregunta {i}: {pregunta}\")\n",
        "    for opcion in opciones:\n",
        "        print(opcion)\n",
        "    respuesta = input(\"Elige tu respuesta (A, B, C o D): \").upper()\n",
        "\n",
        "    if respuesta == respuesta_correcta:\n",
        "        puntos += 10\n",
        "        print(\"¡Correcto!\\n\")\n",
        "    else:\n",
        "        print(\"Incorrecto.\\n\")\n",
        "\n",
        "\n",
        "print(f\"Has terminado el juego, {nombre}. Obtuviste un total de {puntos} puntos.\\n\")\n",
        "\n",
        "\n",
        "if puntos < 70:\n",
        "    print(\"Lo intentaste pero debes leer más.\")\n",
        "elif 70 <= puntos < 90:\n",
        "    print(\"¡Wow! Posees un buen conocimiento sobre cultura general.\")\n",
        "else:\n",
        "    print(\"¡Excelente!, eres una persona muy culta.\")\n"
      ],
      "metadata": {
        "colab": {
          "base_uri": "https://localhost:8080/"
        },
        "id": "t_G7934iaPj7",
        "outputId": "2b19fdc3-b514-4006-885d-b4f65dc4a536"
      },
      "execution_count": 1,
      "outputs": [
        {
          "output_type": "stream",
          "name": "stdout",
          "text": [
            "¡Bienvenido al mejor juego de cultura general!\n",
            "¡Bienvenido al juego de cultura general! ¿Cuál es tu nombre? Kevin\n",
            "\n",
            "¡Hola Kevin! Empecemos con el juego.\n",
            "\n",
            "Pregunta 1: ¿Cuál es el río más largo del mundo?\n",
            "A) Amazonas\n",
            "B) Nilo\n",
            "C) Yangtsé\n",
            "D) Misisipi\n",
            "Elige tu respuesta (A, B, C o D): a\n",
            "¡Correcto!\n",
            "\n",
            "Pregunta 2: ¿Quién pintó la Mona Lisa?\n",
            "A) Van Gogh\n",
            "B) Leonardo da Vinci\n",
            "C) Picasso\n",
            "D) Rembrandt\n",
            "Elige tu respuesta (A, B, C o D): b\n",
            "¡Correcto!\n",
            "\n",
            "Pregunta 3: ¿Cuál es el planeta más grande del sistema solar?\n",
            "A) Tierra\n",
            "B) Marte\n",
            "C) Júpiter\n",
            "D) Saturno\n",
            "Elige tu respuesta (A, B, C o D): c\n",
            "¡Correcto!\n",
            "\n",
            "Pregunta 4: ¿En qué año llegó el hombre a la luna?\n",
            "A) 1960\n",
            "B) 1969\n",
            "C) 1972\n",
            "D) 1958\n",
            "Elige tu respuesta (A, B, C o D): b\n",
            "¡Correcto!\n",
            "\n",
            "Pregunta 5: ¿Cuál es el país más grande del mundo?\n",
            "A) Rusia\n",
            "B) Canadá\n",
            "C) China\n",
            "D) Estados Unidos\n",
            "Elige tu respuesta (A, B, C o D): a\n",
            "¡Correcto!\n",
            "\n",
            "Pregunta 6: ¿Cuál es la capital de Australia?\n",
            "A) Sídney\n",
            "B) Melbourne\n",
            "C) Brisbane\n",
            "D) Canberra\n",
            "Elige tu respuesta (A, B, C o D): d\n",
            "¡Correcto!\n",
            "\n",
            "Pregunta 7: ¿Quién escribió 'Cien años de soledad'?\n",
            "A) Pablo Neruda\n",
            "B) Mario Vargas Llosa\n",
            "C) Gabriel García Márquez\n",
            "D) Jorge Luis Borges\n",
            "Elige tu respuesta (A, B, C o D): c\n",
            "¡Correcto!\n",
            "\n",
            "Pregunta 8: ¿Cuál es el océano más grande del mundo?\n",
            "A) Pacífico\n",
            "B) Atlántico\n",
            "C) Índico\n",
            "D) Ártico\n",
            "Elige tu respuesta (A, B, C o D): a\n",
            "¡Correcto!\n",
            "\n",
            "Pregunta 9: ¿Qué país ganó el Mundial de Fútbol en 2018?\n",
            "A) Brasil\n",
            "B) Francia\n",
            "C) Alemania\n",
            "D) Argentina\n",
            "Elige tu respuesta (A, B, C o D): b\n",
            "¡Correcto!\n",
            "\n",
            "Pregunta 10: ¿Quién fue el primer presidente de los Estados Unidos?\n",
            "A) Abraham Lincoln\n",
            "B) John Adams\n",
            "C) George Washington\n",
            "D) Thomas Jefferson\n",
            "Elige tu respuesta (A, B, C o D): c\n",
            "¡Correcto!\n",
            "\n",
            "Has terminado el juego, Kevin. Obtuviste un total de 100 puntos.\n",
            "\n",
            "¡Excelente!, eres una persona muy culta.\n"
          ]
        }
      ]
    },
    {
      "cell_type": "code",
      "source": [],
      "metadata": {
        "id": "mcDOowzeAkZO"
      },
      "execution_count": null,
      "outputs": []
    }
  ]
}