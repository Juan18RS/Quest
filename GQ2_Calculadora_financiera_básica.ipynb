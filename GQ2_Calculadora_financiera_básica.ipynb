{
  "nbformat": 4,
  "nbformat_minor": 0,
  "metadata": {
    "colab": {
      "provenance": []
    },
    "kernelspec": {
      "name": "python3",
      "display_name": "Python 3"
    },
    "language_info": {
      "name": "python"
    }
  },
  "cells": [
    {
      "cell_type": "code",
      "source": [
        "import sympy as sp\n",
        "expresion = input(\"Introduce la función a integrar (por ejemplo, x**2 + 3*x + 2): \")\n",
        "x = sp.symbols('x')\n",
        "integral = sp.integrate(sp.sympify(expresion), x)\n",
        "print(\"Integral:\", integral, \"+ C\")"
      ],
      "metadata": {
        "colab": {
          "base_uri": "https://localhost:8080/"
        },
        "id": "t4-_d6dhxTHI",
        "outputId": "af7bf3c1-d19f-404e-c3e6-abce22ba56d8"
      },
      "execution_count": 3,
      "outputs": [
        {
          "output_type": "stream",
          "name": "stdout",
          "text": [
            "Introduce la función a integrar (por ejemplo, x**2 + 3*x + 2): lnx\n",
            "Integral: lnx*x + C\n"
          ]
        }
      ]
    }
  ]
}