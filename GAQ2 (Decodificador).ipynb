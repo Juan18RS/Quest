{
  "nbformat": 4,
  "nbformat_minor": 0,
  "metadata": {
    "colab": {
      "provenance": []
    },
    "kernelspec": {
      "name": "python3",
      "display_name": "Python 3"
    },
    "language_info": {
      "name": "python"
    }
  },
  "cells": [
    {
      "cell_type": "code",
      "source": [
        "class Desplazador:\n",
        "\n",
        "    def __init__(self):\n",
        "        self.vocales = 'aeiou'\n",
        "        self.vocales_tildes = 'áéíóú'\n",
        "        self.consonantes = 'bcdfghjklmnñpqrstvwxyz'\n",
        "\n",
        "\n",
        "    def __desplazar_vocal(self, letra, direccion):\n",
        "        index = self.vocales.index(letra)\n",
        "        if direccion == 'derecha':\n",
        "            return self.vocales[(index + 2) % len(self.vocales)]\n",
        "        else:\n",
        "            return self.vocales[(index - 2) % len(self.vocales)]\n",
        "\n",
        "\n",
        "    def __desplazar_consonante(self, letra, direccion):\n",
        "        index = self.consonantes.index(letra)\n",
        "        if direccion == 'derecha':\n",
        "            return self.consonantes[(index + 1) % len(self.consonantes)]\n",
        "        else:\n",
        "            return self.consonantes[(index - 1) % len(self.consonantes)]\n",
        "\n",
        "\n",
        "    def __desplazar_vocal_tilde(self, letra):\n",
        "        index = self.vocales_tildes.index(letra)\n",
        "        return self.vocales_tildes[(index + 3) % len(self.vocales_tildes)]\n",
        "\n",
        "\n",
        "    def desplazar_letra(self, letra, direccion):\n",
        "        if letra in self.vocales:\n",
        "            return self.__desplazar_vocal(letra, direccion)\n",
        "        elif letra in self.vocales_tildes:\n",
        "            return self.__desplazar_vocal_tilde(letra)\n",
        "        elif letra in self.consonantes:\n",
        "            return self.__desplazar_consonante(letra, direccion)\n",
        "        else:\n",
        "            return letra\n",
        "\n",
        "\n",
        "def procesar_texto(texto, direccion):\n",
        "    desplazador = Desplazador()\n",
        "    texto_modificado = \"\"\n",
        "\n",
        "\n",
        "    for letra in texto.lower():\n",
        "        if letra in desplazador.vocales + desplazador.vocales_tildes:\n",
        "            texto_modificado += desplazador.desplazar_letra(letra, direccion)\n",
        "        elif letra in desplazador.consonantes:\n",
        "            texto_modificado += desplazador.desplazar_letra(letra, direccion)\n",
        "        else:\n",
        "            texto_modificado += letra\n",
        "\n",
        "    return texto_modificado\n",
        "\n",
        "\n",
        "texto_usuario = input(\"Introduce un texto: \")\n",
        "direccion_usuario = input(\"Elige la dirección (derecha/izquierda): \").lower()\n",
        "\n",
        "\n",
        "resultado = procesar_texto(texto_usuario, direccion_usuario)\n",
        "print(\"Texto modificado:\", resultado)"
      ],
      "metadata": {
        "colab": {
          "base_uri": "https://localhost:8080/"
        },
        "id": "285Zv0XWUEhC",
        "outputId": "eab86fd7-5e5c-4725-8dd2-1e6f7ba39430"
      },
      "execution_count": null,
      "outputs": [
        {
          "output_type": "stream",
          "name": "stdout",
          "text": [
            "Introduce un texto: roscon y brayan\n",
            "Elige la dirección (derecha/izquierda): derecha\n",
            "Texto modificado: satdañ z csiziñ\n"
          ]
        }
      ]
    }
  ]
}